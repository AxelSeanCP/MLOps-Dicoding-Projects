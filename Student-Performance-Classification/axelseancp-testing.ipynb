{
 "cells": [
  {
   "cell_type": "markdown",
   "metadata": {},
   "source": [
    "# Import"
   ]
  },
  {
   "cell_type": "code",
   "execution_count": 41,
   "metadata": {},
   "outputs": [],
   "source": [
    "import requests \n",
    "import tensorflow as tf\n",
    "import numpy as np\n",
    "import json\n",
    "import pandas as pd\n",
    "import base64\n",
    "from sklearn.model_selection import train_test_split"
   ]
  },
  {
   "cell_type": "markdown",
   "metadata": {},
   "source": [
    "# Data Loading"
   ]
  },
  {
   "cell_type": "code",
   "execution_count": 70,
   "metadata": {},
   "outputs": [
    {
     "data": {
      "text/html": [
       "<div>\n",
       "<style scoped>\n",
       "    .dataframe tbody tr th:only-of-type {\n",
       "        vertical-align: middle;\n",
       "    }\n",
       "\n",
       "    .dataframe tbody tr th {\n",
       "        vertical-align: top;\n",
       "    }\n",
       "\n",
       "    .dataframe thead th {\n",
       "        text-align: right;\n",
       "    }\n",
       "</style>\n",
       "<table border=\"1\" class=\"dataframe\">\n",
       "  <thead>\n",
       "    <tr style=\"text-align: right;\">\n",
       "      <th></th>\n",
       "      <th>Age</th>\n",
       "      <th>Gender</th>\n",
       "      <th>Ethnicity</th>\n",
       "      <th>ParentalEducation</th>\n",
       "      <th>StudyTimeWeekly</th>\n",
       "      <th>Absences</th>\n",
       "      <th>Tutoring</th>\n",
       "      <th>ParentalSupport</th>\n",
       "      <th>Extracurricular</th>\n",
       "      <th>Sports</th>\n",
       "      <th>Music</th>\n",
       "      <th>Volunteering</th>\n",
       "      <th>GPA</th>\n",
       "      <th>GradeClass</th>\n",
       "    </tr>\n",
       "  </thead>\n",
       "  <tbody>\n",
       "    <tr>\n",
       "      <th>0</th>\n",
       "      <td>17</td>\n",
       "      <td>1</td>\n",
       "      <td>0</td>\n",
       "      <td>2</td>\n",
       "      <td>19.833723</td>\n",
       "      <td>7</td>\n",
       "      <td>1</td>\n",
       "      <td>2</td>\n",
       "      <td>0</td>\n",
       "      <td>0</td>\n",
       "      <td>1</td>\n",
       "      <td>0</td>\n",
       "      <td>2.929196</td>\n",
       "      <td>2.0</td>\n",
       "    </tr>\n",
       "    <tr>\n",
       "      <th>1</th>\n",
       "      <td>18</td>\n",
       "      <td>0</td>\n",
       "      <td>0</td>\n",
       "      <td>1</td>\n",
       "      <td>15.408756</td>\n",
       "      <td>0</td>\n",
       "      <td>0</td>\n",
       "      <td>1</td>\n",
       "      <td>0</td>\n",
       "      <td>0</td>\n",
       "      <td>0</td>\n",
       "      <td>0</td>\n",
       "      <td>3.042915</td>\n",
       "      <td>1.0</td>\n",
       "    </tr>\n",
       "    <tr>\n",
       "      <th>2</th>\n",
       "      <td>15</td>\n",
       "      <td>0</td>\n",
       "      <td>2</td>\n",
       "      <td>3</td>\n",
       "      <td>4.210570</td>\n",
       "      <td>26</td>\n",
       "      <td>0</td>\n",
       "      <td>2</td>\n",
       "      <td>0</td>\n",
       "      <td>0</td>\n",
       "      <td>0</td>\n",
       "      <td>0</td>\n",
       "      <td>0.112602</td>\n",
       "      <td>4.0</td>\n",
       "    </tr>\n",
       "    <tr>\n",
       "      <th>3</th>\n",
       "      <td>17</td>\n",
       "      <td>1</td>\n",
       "      <td>0</td>\n",
       "      <td>3</td>\n",
       "      <td>10.028829</td>\n",
       "      <td>14</td>\n",
       "      <td>0</td>\n",
       "      <td>3</td>\n",
       "      <td>1</td>\n",
       "      <td>0</td>\n",
       "      <td>0</td>\n",
       "      <td>0</td>\n",
       "      <td>2.054218</td>\n",
       "      <td>3.0</td>\n",
       "    </tr>\n",
       "    <tr>\n",
       "      <th>4</th>\n",
       "      <td>17</td>\n",
       "      <td>1</td>\n",
       "      <td>0</td>\n",
       "      <td>2</td>\n",
       "      <td>4.672495</td>\n",
       "      <td>17</td>\n",
       "      <td>1</td>\n",
       "      <td>3</td>\n",
       "      <td>0</td>\n",
       "      <td>0</td>\n",
       "      <td>0</td>\n",
       "      <td>0</td>\n",
       "      <td>1.288061</td>\n",
       "      <td>4.0</td>\n",
       "    </tr>\n",
       "  </tbody>\n",
       "</table>\n",
       "</div>"
      ],
      "text/plain": [
       "   Age  Gender  Ethnicity  ParentalEducation  StudyTimeWeekly  Absences  \\\n",
       "0   17       1          0                  2        19.833723         7   \n",
       "1   18       0          0                  1        15.408756         0   \n",
       "2   15       0          2                  3         4.210570        26   \n",
       "3   17       1          0                  3        10.028829        14   \n",
       "4   17       1          0                  2         4.672495        17   \n",
       "\n",
       "   Tutoring  ParentalSupport  Extracurricular  Sports  Music  Volunteering  \\\n",
       "0         1                2                0       0      1             0   \n",
       "1         0                1                0       0      0             0   \n",
       "2         0                2                0       0      0             0   \n",
       "3         0                3                1       0      0             0   \n",
       "4         1                3                0       0      0             0   \n",
       "\n",
       "        GPA  GradeClass  \n",
       "0  2.929196         2.0  \n",
       "1  3.042915         1.0  \n",
       "2  0.112602         4.0  \n",
       "3  2.054218         3.0  \n",
       "4  1.288061         4.0  "
      ]
     },
     "execution_count": 70,
     "metadata": {},
     "output_type": "execute_result"
    }
   ],
   "source": [
    "df = pd.read_csv('data/Student_performance_data.csv')\n",
    "\n",
    "if 'StudentID' in df.columns:\n",
    "    df.drop(columns=['StudentID'], inplace=True)\n",
    "\n",
    "    df.to_csv('data/Student_performance_data.csv')\n",
    "\n",
    "df.head()"
   ]
  },
  {
   "cell_type": "markdown",
   "metadata": {},
   "source": [
    "# Set Label Class"
   ]
  },
  {
   "cell_type": "code",
   "execution_count": 71,
   "metadata": {},
   "outputs": [],
   "source": [
    "class_names = [\"A\", \"B\", \"C\", \"D\", \"F\"]"
   ]
  },
  {
   "cell_type": "markdown",
   "metadata": {},
   "source": [
    "## Split into features and label"
   ]
  },
  {
   "cell_type": "code",
   "execution_count": 72,
   "metadata": {},
   "outputs": [],
   "source": [
    "X = df.drop(columns=['GradeClass'])\n",
    "y = df['GradeClass']"
   ]
  },
  {
   "cell_type": "code",
   "execution_count": 73,
   "metadata": {},
   "outputs": [
    {
     "name": "stdout",
     "output_type": "stream",
     "text": [
      "Test row:  [17.          1.          0.          2.         19.83372281  7.\n",
      "  1.          2.          0.          0.          1.          0.\n",
      "  2.92919559] \n",
      "\n",
      "Test label:  2.0\n"
     ]
    }
   ],
   "source": [
    "row = np.array(X.iloc[0].values)\n",
    "label = y.iloc[0]\n",
    "\n",
    "print('Test row: ', row, '\\n')\n",
    "print('Test label: ', label)"
   ]
  },
  {
   "cell_type": "code",
   "execution_count": 75,
   "metadata": {},
   "outputs": [
    {
     "name": "stdout",
     "output_type": "stream",
     "text": [
      "Age                  17.000000\n",
      "Gender                1.000000\n",
      "Ethnicity             0.000000\n",
      "ParentalEducation     2.000000\n",
      "StudyTimeWeekly      19.833723\n",
      "Absences              7.000000\n",
      "Tutoring              1.000000\n",
      "ParentalSupport       2.000000\n",
      "Extracurricular       0.000000\n",
      "Sports                0.000000\n",
      "Music                 1.000000\n",
      "Volunteering          0.000000\n",
      "GPA                   2.929196\n",
      "Name: 0, dtype: float64\n"
     ]
    }
   ],
   "source": [
    "print(X.iloc[0])"
   ]
  },
  {
   "cell_type": "code",
   "execution_count": 74,
   "metadata": {},
   "outputs": [],
   "source": [
    "columns_to_exclude = ['StudyTimeWeekly', 'GPA']\n",
    "\n",
    "converted_row = []\n",
    "for i, value in enumerate(row):\n",
    "    column_name = X.columns[i]\n",
    "    if column_name in columns_to_exclude:\n",
    "        converted_row.append(value)  # Keep the original value\n",
    "    else:\n",
    "        converted_row.append(int(value))  # Convert to int\n",
    "\n",
    "#converted_row = np.array(converted_row)"
   ]
  },
  {
   "cell_type": "code",
   "execution_count": 76,
   "metadata": {},
   "outputs": [],
   "source": [
    "def create_tf_example(row):\n",
    "    feature = {\n",
    "        'Age': tf.train.Feature(int64_list=tf.train.Int64List(value=[row[0]])),\n",
    "        'Gender': tf.train.Feature(int64_list=tf.train.Int64List(value=[row[1]])),\n",
    "        'Ethnicity': tf.train.Feature(int64_list=tf.train.Int64List(value=[row[2]])),\n",
    "        'ParentalEducation': tf.train.Feature(int64_list=tf.train.Int64List(value=[row[3]])),\n",
    "        'StudyTimeWeekly': tf.train.Feature(float_list=tf.train.FloatList(value=[row[4]])),\n",
    "        'Absences': tf.train.Feature(int64_list=tf.train.Int64List(value=[row[5]])),\n",
    "        'Tutoring': tf.train.Feature(int64_list=tf.train.Int64List(value=[row[6]])),\n",
    "        'ParentalSupport': tf.train.Feature(int64_list=tf.train.Int64List(value=[row[7]])),\n",
    "        'Extracurricular': tf.train.Feature(int64_list=tf.train.Int64List(value=[row[8]])),\n",
    "        'Sports': tf.train.Feature(int64_list=tf.train.Int64List(value=[row[9]])),\n",
    "        'Music': tf.train.Feature(int64_list=tf.train.Int64List(value=[row[10]])),\n",
    "        'Volunteering': tf.train.Feature(int64_list=tf.train.Int64List(value=[row[11]])),\n",
    "        'GPA': tf.train.Feature(float_list=tf.train.FloatList(value=[row[12]])),\n",
    "    }\n",
    "    example = tf.train.Example(features=tf.train.Features(feature=feature))\n",
    "    return example.SerializeToString()"
   ]
  },
  {
   "cell_type": "code",
   "execution_count": 77,
   "metadata": {},
   "outputs": [],
   "source": [
    "serialized_example = create_tf_example(converted_row)"
   ]
  },
  {
   "cell_type": "markdown",
   "metadata": {},
   "source": [
    "# Make Prediction Request"
   ]
  },
  {
   "cell_type": "code",
   "execution_count": 80,
   "metadata": {},
   "outputs": [
    {
     "name": "stdout",
     "output_type": "stream",
     "text": [
      "The student grade is:  C\n"
     ]
    }
   ],
   "source": [
    "json_data = json.dumps(\n",
    "    {\n",
    "        \"instances\": [{\"examples\": {\"b64\": base64.b64encode(serialized_example).decode('utf-8')}}]\n",
    "    }\n",
    ")\n",
    "\n",
    "endpoint = \"http://localhost:8080/v1/models/student-performance-model:predict\"\n",
    "\n",
    "response = requests.post(endpoint, data=json_data, headers={\"Content-Type\": \"application/json\"})\n",
    "\n",
    "prediction = np.argmax(response.json()[\"predictions\"][0])\n",
    "print(\"The student grade is: \", class_names[prediction])"
   ]
  }
 ],
 "metadata": {
  "kernelspec": {
   "display_name": "mlops-fp",
   "language": "python",
   "name": "python3"
  },
  "language_info": {
   "codemirror_mode": {
    "name": "ipython",
    "version": 3
   },
   "file_extension": ".py",
   "mimetype": "text/x-python",
   "name": "python",
   "nbconvert_exporter": "python",
   "pygments_lexer": "ipython3",
   "version": "3.9.15"
  }
 },
 "nbformat": 4,
 "nbformat_minor": 2
}
