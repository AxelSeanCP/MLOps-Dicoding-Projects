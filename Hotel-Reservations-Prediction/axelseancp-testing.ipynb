{
 "cells": [
  {
   "cell_type": "code",
   "execution_count": null,
   "metadata": {},
   "outputs": [],
   "source": [
    "# TODO 1: Menyinkronkan Prometheus dengan Grafana untuk membuat dashboard monitoring yang lebih menarik.\n",
    "# TODO 2: ngetest pylint di setiap module\n",
    "# TODO 3: deploy ke railway"
   ]
  }
 ],
 "metadata": {
  "language_info": {
   "name": "python"
  }
 },
 "nbformat": 4,
 "nbformat_minor": 2
}
