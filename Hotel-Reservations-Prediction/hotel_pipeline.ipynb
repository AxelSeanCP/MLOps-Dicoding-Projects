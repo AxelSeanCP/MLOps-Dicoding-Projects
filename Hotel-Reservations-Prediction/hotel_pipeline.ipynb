{
 "cells": [
  {
   "cell_type": "markdown",
   "metadata": {},
   "source": [
    "# Hotel-Reservations-Prediction"
   ]
  },
  {
   "cell_type": "markdown",
   "metadata": {},
   "source": [
    "## Import"
   ]
  },
  {
   "cell_type": "code",
   "execution_count": 1,
   "metadata": {},
   "outputs": [],
   "source": [
    "import pandas as pd\n",
    "import os\n",
    "\n",
    "from typing import Text\n",
    "from absl import logging\n",
    "\n",
    "from tfx.orchestration.beam.beam_dag_runner import BeamDagRunner\n",
    "\n",
    "from modules.components import init_components"
   ]
  },
  {
   "cell_type": "markdown",
   "metadata": {},
   "source": [
    "## Ubah label data & drop kolom yang tidak dipakai"
   ]
  },
  {
   "cell_type": "code",
   "execution_count": 19,
   "metadata": {},
   "outputs": [
    {
     "data": {
      "text/html": [
       "<div>\n",
       "<style scoped>\n",
       "    .dataframe tbody tr th:only-of-type {\n",
       "        vertical-align: middle;\n",
       "    }\n",
       "\n",
       "    .dataframe tbody tr th {\n",
       "        vertical-align: top;\n",
       "    }\n",
       "\n",
       "    .dataframe thead th {\n",
       "        text-align: right;\n",
       "    }\n",
       "</style>\n",
       "<table border=\"1\" class=\"dataframe\">\n",
       "  <thead>\n",
       "    <tr style=\"text-align: right;\">\n",
       "      <th></th>\n",
       "      <th>no_of_adults</th>\n",
       "      <th>no_of_children</th>\n",
       "      <th>no_of_weekend_nights</th>\n",
       "      <th>no_of_week_nights</th>\n",
       "      <th>type_of_meal_plan</th>\n",
       "      <th>required_car_parking_space</th>\n",
       "      <th>room_type_reserved</th>\n",
       "      <th>lead_time</th>\n",
       "      <th>market_segment_type</th>\n",
       "      <th>repeated_guest</th>\n",
       "      <th>no_of_previous_cancellations</th>\n",
       "      <th>no_of_previous_bookings_not_canceled</th>\n",
       "      <th>avg_price_per_room</th>\n",
       "      <th>no_of_special_requests</th>\n",
       "      <th>booking_status</th>\n",
       "    </tr>\n",
       "  </thead>\n",
       "  <tbody>\n",
       "    <tr>\n",
       "      <th>0</th>\n",
       "      <td>2</td>\n",
       "      <td>0</td>\n",
       "      <td>1</td>\n",
       "      <td>2</td>\n",
       "      <td>Meal Plan 1</td>\n",
       "      <td>0</td>\n",
       "      <td>Room_Type 1</td>\n",
       "      <td>224</td>\n",
       "      <td>Offline</td>\n",
       "      <td>0</td>\n",
       "      <td>0</td>\n",
       "      <td>0</td>\n",
       "      <td>65.00</td>\n",
       "      <td>0</td>\n",
       "      <td>1</td>\n",
       "    </tr>\n",
       "    <tr>\n",
       "      <th>1</th>\n",
       "      <td>2</td>\n",
       "      <td>0</td>\n",
       "      <td>2</td>\n",
       "      <td>3</td>\n",
       "      <td>Not Selected</td>\n",
       "      <td>0</td>\n",
       "      <td>Room_Type 1</td>\n",
       "      <td>5</td>\n",
       "      <td>Online</td>\n",
       "      <td>0</td>\n",
       "      <td>0</td>\n",
       "      <td>0</td>\n",
       "      <td>106.68</td>\n",
       "      <td>1</td>\n",
       "      <td>1</td>\n",
       "    </tr>\n",
       "    <tr>\n",
       "      <th>2</th>\n",
       "      <td>1</td>\n",
       "      <td>0</td>\n",
       "      <td>2</td>\n",
       "      <td>1</td>\n",
       "      <td>Meal Plan 1</td>\n",
       "      <td>0</td>\n",
       "      <td>Room_Type 1</td>\n",
       "      <td>1</td>\n",
       "      <td>Online</td>\n",
       "      <td>0</td>\n",
       "      <td>0</td>\n",
       "      <td>0</td>\n",
       "      <td>60.00</td>\n",
       "      <td>0</td>\n",
       "      <td>0</td>\n",
       "    </tr>\n",
       "    <tr>\n",
       "      <th>3</th>\n",
       "      <td>2</td>\n",
       "      <td>0</td>\n",
       "      <td>0</td>\n",
       "      <td>2</td>\n",
       "      <td>Meal Plan 1</td>\n",
       "      <td>0</td>\n",
       "      <td>Room_Type 1</td>\n",
       "      <td>211</td>\n",
       "      <td>Online</td>\n",
       "      <td>0</td>\n",
       "      <td>0</td>\n",
       "      <td>0</td>\n",
       "      <td>100.00</td>\n",
       "      <td>0</td>\n",
       "      <td>0</td>\n",
       "    </tr>\n",
       "    <tr>\n",
       "      <th>4</th>\n",
       "      <td>2</td>\n",
       "      <td>0</td>\n",
       "      <td>1</td>\n",
       "      <td>1</td>\n",
       "      <td>Not Selected</td>\n",
       "      <td>0</td>\n",
       "      <td>Room_Type 1</td>\n",
       "      <td>48</td>\n",
       "      <td>Online</td>\n",
       "      <td>0</td>\n",
       "      <td>0</td>\n",
       "      <td>0</td>\n",
       "      <td>94.50</td>\n",
       "      <td>0</td>\n",
       "      <td>0</td>\n",
       "    </tr>\n",
       "  </tbody>\n",
       "</table>\n",
       "</div>"
      ],
      "text/plain": [
       "   no_of_adults  no_of_children  no_of_weekend_nights  no_of_week_nights  \\\n",
       "0             2               0                     1                  2   \n",
       "1             2               0                     2                  3   \n",
       "2             1               0                     2                  1   \n",
       "3             2               0                     0                  2   \n",
       "4             2               0                     1                  1   \n",
       "\n",
       "  type_of_meal_plan  required_car_parking_space room_type_reserved  lead_time  \\\n",
       "0       Meal Plan 1                           0        Room_Type 1        224   \n",
       "1      Not Selected                           0        Room_Type 1          5   \n",
       "2       Meal Plan 1                           0        Room_Type 1          1   \n",
       "3       Meal Plan 1                           0        Room_Type 1        211   \n",
       "4      Not Selected                           0        Room_Type 1         48   \n",
       "\n",
       "  market_segment_type  repeated_guest  no_of_previous_cancellations  \\\n",
       "0             Offline               0                             0   \n",
       "1              Online               0                             0   \n",
       "2              Online               0                             0   \n",
       "3              Online               0                             0   \n",
       "4              Online               0                             0   \n",
       "\n",
       "   no_of_previous_bookings_not_canceled  avg_price_per_room  \\\n",
       "0                                     0               65.00   \n",
       "1                                     0              106.68   \n",
       "2                                     0               60.00   \n",
       "3                                     0              100.00   \n",
       "4                                     0               94.50   \n",
       "\n",
       "   no_of_special_requests  booking_status  \n",
       "0                       0               1  \n",
       "1                       1               1  \n",
       "2                       0               0  \n",
       "3                       0               0  \n",
       "4                       0               0  "
      ]
     },
     "execution_count": 19,
     "metadata": {},
     "output_type": "execute_result"
    }
   ],
   "source": [
    "# df = pd.read_csv('data/Hotel Reservations.csv', encoding='latin-1')\n",
    "\n",
    "# kolom_gak_pake = ['Booking_ID', 'arrival_year', 'arrival_month', 'arrival_date']\n",
    "\n",
    "# df.drop(columns=[col for col in kolom_gak_pake if col in df.columns], inplace=True)\n",
    "\n",
    "# def ganti_nama_fitur(fitur):\n",
    "#     return 0 if fitur=='Canceled' else 1\n",
    "\n",
    "# if df['booking_status'].dtype == object:\n",
    "#     df['booking_status'] = [ganti_nama_fitur(x) for x in df['booking_status']]\n",
    "\n",
    "# #df.drop(columns=['Unnamed: 0'], inplace=True)\n",
    "# df.to_csv('data/Hotel Reservations_utf8.csv', index=False, encoding='utf-8')\n",
    "# df.head()"
   ]
  },
  {
   "cell_type": "markdown",
   "metadata": {},
   "source": [
    "## Set Variabel"
   ]
  },
  {
   "cell_type": "code",
   "execution_count": 30,
   "metadata": {},
   "outputs": [],
   "source": [
    "PIPELINE_NAME = \"axelseancp-pipeline\"\n",
    "\n",
    "DATA_ROOT = 'data'\n",
    "TRANSFORM_MODULE_FILE = \"modules/hotel_transform.py\"\n",
    "TRAINER_TUNER_MODULE_FILE = \"modules/hotel_trainer_tuner.py\"\n",
    "\n",
    "OUTPUT_BASE = \"output\"\n",
    "serving_model_dir = os.path.join(OUTPUT_BASE, 'serving_model')\n",
    "pipeline_root = os.path.join(OUTPUT_BASE, PIPELINE_NAME)\n",
    "metadata_path = os.path.join(pipeline_root, \"metadata.sqlite\")"
   ]
  },
  {
   "cell_type": "markdown",
   "metadata": {},
   "source": [
    "## Run Pipeline"
   ]
  },
  {
   "cell_type": "code",
   "execution_count": 31,
   "metadata": {},
   "outputs": [],
   "source": [
    "from tfx.orchestration import metadata, pipeline\n",
    "\n",
    "def init_local_pipeline(\n",
    "    components, pipeline_root: Text\n",
    ") -> pipeline.Pipeline:\n",
    "    \n",
    "    logging.info(f\"Pipeline root set to: {pipeline_root}\")\n",
    "    beam_args = [\n",
    "        \"--direct_running_mode=multi_processing\"\n",
    "        # 0 auto-detect based on on the number of CPUs available \n",
    "        # during execution time.\n",
    "        \"----direct_num_workers=0\" \n",
    "    ]\n",
    "    \n",
    "    return pipeline.Pipeline(\n",
    "        pipeline_name=PIPELINE_NAME,\n",
    "        pipeline_root=pipeline_root,\n",
    "        components=components,\n",
    "        enable_cache=True,\n",
    "        metadata_connection_config=metadata.sqlite_metadata_connection_config(\n",
    "            metadata_path\n",
    "        ),\n",
    "        eam_pipeline_args=beam_args \n",
    "    )"
   ]
  },
  {
   "cell_type": "code",
   "execution_count": 32,
   "metadata": {},
   "outputs": [
    {
     "name": "stdout",
     "output_type": "stream",
     "text": [
      "Trial 10 Complete [00h 00m 26s]\n",
      "val_binary_accuracy: 0.8076093792915344\n",
      "\n",
      "Best val_binary_accuracy So Far: 0.8110156059265137\n",
      "Total elapsed time: 00h 04m 31s\n",
      "INFO:tensorflow:Oracle triggered exit\n"
     ]
    },
    {
     "name": "stderr",
     "output_type": "stream",
     "text": [
      "INFO:tensorflow:Oracle triggered exit\n"
     ]
    },
    {
     "name": "stdout",
     "output_type": "stream",
     "text": [
      "Results summary\n",
      "Results in outputs\\axelseancp-pipeline\\Tuner\\.system\\executor_execution\\7\\.temp\\7\\hotel-reservations-prediction\n",
      "Showing 10 best trials\n",
      "Objective(name=\"val_binary_accuracy\", direction=\"max\")\n",
      "\n",
      "Trial 05 summary\n",
      "Hyperparameters:\n",
      "units: 16\n",
      "learning_rate: 0.01\n",
      "num_layers: 1\n",
      "Score: 0.8110156059265137\n",
      "\n",
      "Trial 00 summary\n",
      "Hyperparameters:\n",
      "units: 256\n",
      "learning_rate: 0.001\n",
      "num_layers: 1\n",
      "Score: 0.8102812767028809\n",
      "\n",
      "Trial 09 summary\n",
      "Hyperparameters:\n",
      "units: 64\n",
      "learning_rate: 0.01\n",
      "num_layers: 1\n",
      "Score: 0.8076093792915344\n",
      "\n",
      "Trial 04 summary\n",
      "Hyperparameters:\n",
      "units: 16\n",
      "learning_rate: 0.01\n",
      "num_layers: 3\n",
      "Score: 0.8074843883514404\n",
      "\n",
      "Trial 07 summary\n",
      "Hyperparameters:\n",
      "units: 64\n",
      "learning_rate: 0.001\n",
      "num_layers: 3\n",
      "Score: 0.8064062595367432\n",
      "\n",
      "Trial 03 summary\n",
      "Hyperparameters:\n",
      "units: 256\n",
      "learning_rate: 0.01\n",
      "num_layers: 2\n",
      "Score: 0.8022656440734863\n",
      "\n",
      "Trial 08 summary\n",
      "Hyperparameters:\n",
      "units: 64\n",
      "learning_rate: 0.001\n",
      "num_layers: 1\n",
      "Score: 0.8022187352180481\n",
      "\n",
      "Trial 06 summary\n",
      "Hyperparameters:\n",
      "units: 64\n",
      "learning_rate: 0.001\n",
      "num_layers: 2\n",
      "Score: 0.8017656207084656\n",
      "\n",
      "Trial 01 summary\n",
      "Hyperparameters:\n",
      "units: 64\n",
      "learning_rate: 0.01\n",
      "num_layers: 2\n",
      "Score: 0.7999531030654907\n",
      "\n",
      "Trial 02 summary\n",
      "Hyperparameters:\n",
      "units: 16\n",
      "learning_rate: 0.001\n",
      "num_layers: 3\n",
      "Score: 0.7945625185966492\n"
     ]
    },
    {
     "name": "stderr",
     "output_type": "stream",
     "text": [
      "WARNING:absl:ArtifactQuery.property_predicate is not supported.\n",
      "WARNING:absl:ArtifactQuery.property_predicate is not supported.\n",
      "WARNING:absl:ArtifactQuery.property_predicate is not supported.\n",
      "WARNING:absl:ArtifactQuery.property_predicate is not supported.\n",
      "WARNING:absl:Examples artifact does not have payload_format custom property. Falling back to FORMAT_TF_EXAMPLE\n",
      "WARNING:absl:Examples artifact does not have payload_format custom property. Falling back to FORMAT_TF_EXAMPLE\n",
      "WARNING:absl:Examples artifact does not have payload_format custom property. Falling back to FORMAT_TF_EXAMPLE\n"
     ]
    },
    {
     "name": "stdout",
     "output_type": "stream",
     "text": [
      "Model: \"model_1\"\n",
      "__________________________________________________________________________________________________\n",
      " Layer (type)                   Output Shape         Param #     Connected to                     \n",
      "==================================================================================================\n",
      " type_of_meal_plan_xf (InputLay  [(None, 5)]         0           []                               \n",
      " er)                                                                                              \n",
      "                                                                                                  \n",
      " room_type_reserved_xf (InputLa  [(None, 6)]         0           []                               \n",
      " yer)                                                                                             \n",
      "                                                                                                  \n",
      " market_segment_type_xf (InputL  [(None, 6)]         0           []                               \n",
      " ayer)                                                                                            \n",
      "                                                                                                  \n",
      " no_of_adults_xf (InputLayer)   [(None, 1)]          0           []                               \n",
      "                                                                                                  \n",
      " no_of_children_xf (InputLayer)  [(None, 1)]         0           []                               \n",
      "                                                                                                  \n",
      " no_of_weekend_nights_xf (Input  [(None, 1)]         0           []                               \n",
      " Layer)                                                                                           \n",
      "                                                                                                  \n",
      " no_of_week_nights_xf (InputLay  [(None, 1)]         0           []                               \n",
      " er)                                                                                              \n",
      "                                                                                                  \n",
      " required_car_parking_space_xf   [(None, 1)]         0           []                               \n",
      " (InputLayer)                                                                                     \n",
      "                                                                                                  \n",
      " lead_time_xf (InputLayer)      [(None, 1)]          0           []                               \n",
      "                                                                                                  \n",
      " repeated_guest_xf (InputLayer)  [(None, 1)]         0           []                               \n",
      "                                                                                                  \n",
      " no_of_previous_cancellations_x  [(None, 1)]         0           []                               \n",
      " f (InputLayer)                                                                                   \n",
      "                                                                                                  \n",
      " no_of_previous_bookings_not_ca  [(None, 1)]         0           []                               \n",
      " nceled_xf (InputLayer)                                                                           \n",
      "                                                                                                  \n",
      " avg_price_per_room_xf (InputLa  [(None, 1)]         0           []                               \n",
      " yer)                                                                                             \n",
      "                                                                                                  \n",
      " no_of_special_requests_xf (Inp  [(None, 1)]         0           []                               \n",
      " utLayer)                                                                                         \n",
      "                                                                                                  \n",
      " concatenate_1 (Concatenate)    (None, 28)           0           ['type_of_meal_plan_xf[0][0]',   \n",
      "                                                                  'room_type_reserved_xf[0][0]',  \n",
      "                                                                  'market_segment_type_xf[0][0]', \n",
      "                                                                  'no_of_adults_xf[0][0]',        \n",
      "                                                                  'no_of_children_xf[0][0]',      \n",
      "                                                                  'no_of_weekend_nights_xf[0][0]',\n",
      "                                                                  'no_of_week_nights_xf[0][0]',   \n",
      "                                                                  'required_car_parking_space_xf[0\n",
      "                                                                 ][0]',                           \n",
      "                                                                  'lead_time_xf[0][0]',           \n",
      "                                                                  'repeated_guest_xf[0][0]',      \n",
      "                                                                  'no_of_previous_cancellations_xf\n",
      "                                                                 [0][0]',                         \n",
      "                                                                  'no_of_previous_bookings_not_can\n",
      "                                                                 celed_xf[0][0]',                 \n",
      "                                                                  'avg_price_per_room_xf[0][0]',  \n",
      "                                                                  'no_of_special_requests_xf[0][0]\n",
      "                                                                 ']                               \n",
      "                                                                                                  \n",
      " dense_3 (Dense)                (None, 16)           464         ['concatenate_1[0][0]']          \n",
      "                                                                                                  \n",
      " dense_4 (Dense)                (None, 16)           272         ['dense_3[0][0]']                \n",
      "                                                                                                  \n",
      " dense_5 (Dense)                (None, 1)            17          ['dense_4[0][0]']                \n",
      "                                                                                                  \n",
      "==================================================================================================\n",
      "Total params: 753\n",
      "Trainable params: 753\n",
      "Non-trainable params: 0\n",
      "__________________________________________________________________________________________________\n",
      "Epoch 1/10\n",
      "5000/5000 [==============================] - 10s 2ms/step - loss: 0.3979 - binary_accuracy: 0.8162 - val_loss: 0.4206 - val_binary_accuracy: 0.8053\n",
      "Epoch 2/10\n",
      "5000/5000 [==============================] - 20s 4ms/step - loss: 0.3708 - binary_accuracy: 0.8339 - val_loss: 0.4204 - val_binary_accuracy: 0.8056\n",
      "Epoch 3/10\n",
      "5000/5000 [==============================] - 18s 4ms/step - loss: 0.3613 - binary_accuracy: 0.8384 - val_loss: 0.4105 - val_binary_accuracy: 0.8090\n",
      "Epoch 4/10\n",
      "5000/5000 [==============================] - 20s 4ms/step - loss: 0.3556 - binary_accuracy: 0.8413 - val_loss: 0.4123 - val_binary_accuracy: 0.8144\n",
      "Epoch 5/10\n",
      "5000/5000 [==============================] - 19s 4ms/step - loss: 0.3515 - binary_accuracy: 0.8427 - val_loss: 0.4213 - val_binary_accuracy: 0.8106\n",
      "Epoch 6/10\n",
      "5000/5000 [==============================] - 19s 4ms/step - loss: 0.3490 - binary_accuracy: 0.8448 - val_loss: 0.4346 - val_binary_accuracy: 0.8127\n",
      "Epoch 7/10\n",
      "5000/5000 [==============================] - 17s 3ms/step - loss: 0.3472 - binary_accuracy: 0.8449 - val_loss: 0.4307 - val_binary_accuracy: 0.8123\n",
      "Epoch 8/10\n",
      "5000/5000 [==============================] - 19s 4ms/step - loss: 0.3451 - binary_accuracy: 0.8461 - val_loss: 0.4308 - val_binary_accuracy: 0.8154\n",
      "Epoch 9/10\n",
      "5000/5000 [==============================] - 18s 4ms/step - loss: 0.3431 - binary_accuracy: 0.8472 - val_loss: 0.4425 - val_binary_accuracy: 0.8083\n",
      "Epoch 10/10\n",
      "5000/5000 [==============================] - 16s 3ms/step - loss: 0.3411 - binary_accuracy: 0.8481 - val_loss: 0.4431 - val_binary_accuracy: 0.8221\n",
      "INFO:tensorflow:struct2tensor is not available.\n"
     ]
    },
    {
     "name": "stderr",
     "output_type": "stream",
     "text": [
      "INFO:tensorflow:struct2tensor is not available.\n"
     ]
    },
    {
     "name": "stdout",
     "output_type": "stream",
     "text": [
      "INFO:tensorflow:tensorflow_decision_forests is not available.\n"
     ]
    },
    {
     "name": "stderr",
     "output_type": "stream",
     "text": [
      "INFO:tensorflow:tensorflow_decision_forests is not available.\n"
     ]
    },
    {
     "name": "stdout",
     "output_type": "stream",
     "text": [
      "INFO:tensorflow:tensorflow_text is not available.\n"
     ]
    },
    {
     "name": "stderr",
     "output_type": "stream",
     "text": [
      "INFO:tensorflow:tensorflow_text is not available.\n"
     ]
    },
    {
     "name": "stdout",
     "output_type": "stream",
     "text": [
      "INFO:tensorflow:Assets written to: outputs\\axelseancp-pipeline\\Trainer\\model\\8\\Format-Serving\\assets\n"
     ]
    },
    {
     "name": "stderr",
     "output_type": "stream",
     "text": [
      "INFO:tensorflow:Assets written to: outputs\\axelseancp-pipeline\\Trainer\\model\\8\\Format-Serving\\assets\n"
     ]
    },
    {
     "name": "stdout",
     "output_type": "stream",
     "text": [
      "You must install pydot (`pip install pydot`) and install graphviz (see instructions at https://graphviz.gitlab.io/download/) for plot_model to work.\n"
     ]
    },
    {
     "name": "stderr",
     "output_type": "stream",
     "text": [
      "WARNING:absl:ArtifactQuery.property_predicate is not supported.\n",
      "WARNING:absl:ArtifactQuery.property_predicate is not supported.\n"
     ]
    },
    {
     "name": "stdout",
     "output_type": "stream",
     "text": [
      "WARNING:tensorflow:Inconsistent references when loading the checkpoint into this object graph. For example, in the saved checkpoint object, `model.layer.weight` and `model.layer_copy.weight` reference the same variable, while in the current object these are two different variables. The referenced variables are:(<keras.saving.saved_model.load.TensorFlowTransform>TransformFeaturesLayer object at 0x000001A28ADA56A0> and <keras.engine.input_layer.InputLayer object at 0x000001A2AAFDDAC0>).\n"
     ]
    },
    {
     "name": "stderr",
     "output_type": "stream",
     "text": [
      "WARNING:tensorflow:Inconsistent references when loading the checkpoint into this object graph. For example, in the saved checkpoint object, `model.layer.weight` and `model.layer_copy.weight` reference the same variable, while in the current object these are two different variables. The referenced variables are:(<keras.saving.saved_model.load.TensorFlowTransform>TransformFeaturesLayer object at 0x000001A28ADA56A0> and <keras.engine.input_layer.InputLayer object at 0x000001A2AAFDDAC0>).\n"
     ]
    },
    {
     "name": "stdout",
     "output_type": "stream",
     "text": [
      "WARNING:tensorflow:Inconsistent references when loading the checkpoint into this object graph. For example, in the saved checkpoint object, `model.layer.weight` and `model.layer_copy.weight` reference the same variable, while in the current object these are two different variables. The referenced variables are:(<keras.saving.saved_model.load.TensorFlowTransform>TransformFeaturesLayer object at 0x000001A28B31E190> and <keras.engine.input_layer.InputLayer object at 0x000001A2AAD1E130>).\n"
     ]
    },
    {
     "name": "stderr",
     "output_type": "stream",
     "text": [
      "WARNING:tensorflow:Inconsistent references when loading the checkpoint into this object graph. For example, in the saved checkpoint object, `model.layer.weight` and `model.layer_copy.weight` reference the same variable, while in the current object these are two different variables. The referenced variables are:(<keras.saving.saved_model.load.TensorFlowTransform>TransformFeaturesLayer object at 0x000001A28B31E190> and <keras.engine.input_layer.InputLayer object at 0x000001A2AAD1E130>).\n"
     ]
    },
    {
     "name": "stdout",
     "output_type": "stream",
     "text": [
      "WARNING:tensorflow:Inconsistent references when loading the checkpoint into this object graph. For example, in the saved checkpoint object, `model.layer.weight` and `model.layer_copy.weight` reference the same variable, while in the current object these are two different variables. The referenced variables are:(<keras.saving.saved_model.load.TensorFlowTransform>TransformFeaturesLayer object at 0x000001A28C2ABFA0> and <keras.engine.input_layer.InputLayer object at 0x000001A28D6D9670>).\n"
     ]
    },
    {
     "name": "stderr",
     "output_type": "stream",
     "text": [
      "WARNING:tensorflow:Inconsistent references when loading the checkpoint into this object graph. For example, in the saved checkpoint object, `model.layer.weight` and `model.layer_copy.weight` reference the same variable, while in the current object these are two different variables. The referenced variables are:(<keras.saving.saved_model.load.TensorFlowTransform>TransformFeaturesLayer object at 0x000001A28C2ABFA0> and <keras.engine.input_layer.InputLayer object at 0x000001A28D6D9670>).\n"
     ]
    },
    {
     "name": "stdout",
     "output_type": "stream",
     "text": [
      "WARNING:tensorflow:Inconsistent references when loading the checkpoint into this object graph. For example, in the saved checkpoint object, `model.layer.weight` and `model.layer_copy.weight` reference the same variable, while in the current object these are two different variables. The referenced variables are:(<keras.saving.saved_model.load.TensorFlowTransform>TransformFeaturesLayer object at 0x000001A28C489BB0> and <keras.engine.input_layer.InputLayer object at 0x000001A28F6886A0>).\n"
     ]
    },
    {
     "name": "stderr",
     "output_type": "stream",
     "text": [
      "WARNING:tensorflow:Inconsistent references when loading the checkpoint into this object graph. For example, in the saved checkpoint object, `model.layer.weight` and `model.layer_copy.weight` reference the same variable, while in the current object these are two different variables. The referenced variables are:(<keras.saving.saved_model.load.TensorFlowTransform>TransformFeaturesLayer object at 0x000001A28C489BB0> and <keras.engine.input_layer.InputLayer object at 0x000001A28F6886A0>).\n"
     ]
    },
    {
     "name": "stdout",
     "output_type": "stream",
     "text": [
      "WARNING:tensorflow:Inconsistent references when loading the checkpoint into this object graph. For example, in the saved checkpoint object, `model.layer.weight` and `model.layer_copy.weight` reference the same variable, while in the current object these are two different variables. The referenced variables are:(<keras.saving.saved_model.load.TensorFlowTransform>TransformFeaturesLayer object at 0x000001A2A5615D30> and <keras.engine.input_layer.InputLayer object at 0x000001A28F6884C0>).\n"
     ]
    },
    {
     "name": "stderr",
     "output_type": "stream",
     "text": [
      "WARNING:tensorflow:Inconsistent references when loading the checkpoint into this object graph. For example, in the saved checkpoint object, `model.layer.weight` and `model.layer_copy.weight` reference the same variable, while in the current object these are two different variables. The referenced variables are:(<keras.saving.saved_model.load.TensorFlowTransform>TransformFeaturesLayer object at 0x000001A2A5615D30> and <keras.engine.input_layer.InputLayer object at 0x000001A28F6884C0>).\n"
     ]
    },
    {
     "name": "stdout",
     "output_type": "stream",
     "text": [
      "WARNING:tensorflow:Inconsistent references when loading the checkpoint into this object graph. For example, in the saved checkpoint object, `model.layer.weight` and `model.layer_copy.weight` reference the same variable, while in the current object these are two different variables. The referenced variables are:(<keras.saving.saved_model.load.TensorFlowTransform>TransformFeaturesLayer object at 0x000001A28F44E970> and <keras.engine.input_layer.InputLayer object at 0x000001A2A73D86D0>).\n"
     ]
    },
    {
     "name": "stderr",
     "output_type": "stream",
     "text": [
      "WARNING:tensorflow:Inconsistent references when loading the checkpoint into this object graph. For example, in the saved checkpoint object, `model.layer.weight` and `model.layer_copy.weight` reference the same variable, while in the current object these are two different variables. The referenced variables are:(<keras.saving.saved_model.load.TensorFlowTransform>TransformFeaturesLayer object at 0x000001A28F44E970> and <keras.engine.input_layer.InputLayer object at 0x000001A2A73D86D0>).\n"
     ]
    },
    {
     "name": "stdout",
     "output_type": "stream",
     "text": [
      "WARNING:tensorflow:Inconsistent references when loading the checkpoint into this object graph. For example, in the saved checkpoint object, `model.layer.weight` and `model.layer_copy.weight` reference the same variable, while in the current object these are two different variables. The referenced variables are:(<keras.saving.saved_model.load.TensorFlowTransform>TransformFeaturesLayer object at 0x000001A28C1CF280> and <keras.engine.input_layer.InputLayer object at 0x000001A29C66C9A0>).\n"
     ]
    },
    {
     "name": "stderr",
     "output_type": "stream",
     "text": [
      "WARNING:tensorflow:Inconsistent references when loading the checkpoint into this object graph. For example, in the saved checkpoint object, `model.layer.weight` and `model.layer_copy.weight` reference the same variable, while in the current object these are two different variables. The referenced variables are:(<keras.saving.saved_model.load.TensorFlowTransform>TransformFeaturesLayer object at 0x000001A28C1CF280> and <keras.engine.input_layer.InputLayer object at 0x000001A29C66C9A0>).\n"
     ]
    },
    {
     "name": "stdout",
     "output_type": "stream",
     "text": [
      "WARNING:tensorflow:Inconsistent references when loading the checkpoint into this object graph. For example, in the saved checkpoint object, `model.layer.weight` and `model.layer_copy.weight` reference the same variable, while in the current object these are two different variables. The referenced variables are:(<keras.saving.saved_model.load.TensorFlowTransform>TransformFeaturesLayer object at 0x000001A2A7113610> and <keras.engine.input_layer.InputLayer object at 0x000001A28C085B50>).\n"
     ]
    },
    {
     "name": "stderr",
     "output_type": "stream",
     "text": [
      "WARNING:tensorflow:Inconsistent references when loading the checkpoint into this object graph. For example, in the saved checkpoint object, `model.layer.weight` and `model.layer_copy.weight` reference the same variable, while in the current object these are two different variables. The referenced variables are:(<keras.saving.saved_model.load.TensorFlowTransform>TransformFeaturesLayer object at 0x000001A2A7113610> and <keras.engine.input_layer.InputLayer object at 0x000001A28C085B50>).\n",
      "WARNING:absl:ArtifactQuery.property_predicate is not supported.\n",
      "WARNING:absl:ArtifactQuery.property_predicate is not supported.\n"
     ]
    }
   ],
   "source": [
    "components = init_components(\n",
    "    DATA_ROOT,\n",
    "    tuner_module=TRAINER_TUNER_MODULE_FILE,\n",
    "    training_module=TRAINER_TUNER_MODULE_FILE,\n",
    "    transform_module=TRANSFORM_MODULE_FILE,\n",
    "    training_steps=5000,\n",
    "    eval_steps=1000,\n",
    "    serving_model_dir=serving_model_dir,\n",
    ")\n",
    "\n",
    "pipeline = init_local_pipeline(components, pipeline_root)\n",
    "BeamDagRunner().run(pipeline=pipeline)"
   ]
  }
 ],
 "metadata": {
  "kernelspec": {
   "display_name": "mlops-sp",
   "language": "python",
   "name": "python3"
  },
  "language_info": {
   "codemirror_mode": {
    "name": "ipython",
    "version": 3
   },
   "file_extension": ".py",
   "mimetype": "text/x-python",
   "name": "python",
   "nbconvert_exporter": "python",
   "pygments_lexer": "ipython3",
   "version": "3.8.18"
  }
 },
 "nbformat": 4,
 "nbformat_minor": 2
}
